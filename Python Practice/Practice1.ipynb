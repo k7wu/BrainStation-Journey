{
 "cells": [
  {
   "cell_type": "markdown",
   "metadata": {},
   "source": [
    "# Python Practice\n",
    "## Practice 1: Monty Hall Problem Simulation\n"
   ]
  },
  {
   "cell_type": "code",
   "execution_count": null,
   "metadata": {},
   "outputs": [],
   "source": [
    "import numpy as np"
   ]
  },
  {
   "cell_type": "code",
   "execution_count": null,
   "metadata": {},
   "outputs": [],
   "source": [
    "user_input = input('please type something: ')"
   ]
  },
  {
   "cell_type": "code",
   "execution_count": null,
   "metadata": {},
   "outputs": [],
   "source": [
    "user_input"
   ]
  },
  {
   "cell_type": "markdown",
   "metadata": {},
   "source": [
    "1. Create an interactive version without Monty; One of three doors is chosen as the car at random, input() is taken from the user for the door they choose, and they win if it matches."
   ]
  },
  {
   "cell_type": "code",
   "execution_count": null,
   "metadata": {},
   "outputs": [],
   "source": [
    "def monty():\n",
    "    winningdoor = np.random.randint(0,3)\n",
    "    choice = int(input(\"Please choose a door - '1', '2', or '3'\"))\n",
    "    if choice == winningdoor:\n",
    "        print('You Win')\n",
    "    else:\n",
    "        print('You Lose')"
   ]
  },
  {
   "cell_type": "code",
   "execution_count": null,
   "metadata": {},
   "outputs": [],
   "source": [
    "monty()"
   ]
  },
  {
   "cell_type": "code",
   "execution_count": null,
   "metadata": {},
   "outputs": [],
   "source": [
    "doors = np.array(['Goat','Car','Goat'])\n",
    "np.random.shuffle(doors)\n",
    "print(doors)"
   ]
  },
  {
   "cell_type": "code",
   "execution_count": null,
   "metadata": {},
   "outputs": [],
   "source": [
    "user_choice = input(\"Please pick a door (1-3): \")\n",
    "numeric_user_choice = int(user_choice)-1\n",
    "if (doors[numeric_user_choice] == \"Car\"):\n",
    "    print(\"You win!\")\n",
    "else:\n",
    "    print(\"You lose!\")"
   ]
  },
  {
   "cell_type": "markdown",
   "metadata": {},
   "source": [
    "2. Modify this to include Monty opening the door and giving the choice - take a second input() to determine whether you 'switch' or 'stay' on your original choice."
   ]
  },
  {
   "cell_type": "code",
   "execution_count": null,
   "metadata": {},
   "outputs": [],
   "source": [
    "def monty1():\n",
    "    winningdoor = np.random.randint(0,3)\n",
    "    #print(winningdoor)\n",
    "    choice = int(input(\"Please choose a door - '1', '2', or '3': \"))\n",
    "    choice2 = str(input(\"Would you like to 'switch' or 'stay'\"))\n",
    "    if choice2 == 'switch':\n",
    "        choice = int(input(\"Please choose another door - '1', '2', or '3': \"))\n",
    "        if choice == winningdoor:\n",
    "            print('You Win')    \n",
    "        else:\n",
    "            print('You Lose')\n",
    "    elif choice2 == 'stay':\n",
    "        if choice == winningdoor:\n",
    "            print('You Win')    \n",
    "        else:\n",
    "            print('You Lose')"
   ]
  },
  {
   "cell_type": "code",
   "execution_count": null,
   "metadata": {},
   "outputs": [],
   "source": [
    "monty1()"
   ]
  },
  {
   "cell_type": "code",
   "execution_count": null,
   "metadata": {},
   "outputs": [],
   "source": [
    "doors = np.array(['Goat','Car','Goat'])\n",
    "np.random.shuffle(doors)\n",
    "print(doors)\n",
    "car_door = np.where(doors == 'Car')\n",
    "car_door = car_door[0][0]\n",
    "print('Car is behind door'+str(car_door))\n",
    "\n",
    "set_of_all_doors = set(range(3))\n",
    "set_of_user_choice = {numeric_user_choice}\n",
    "set_of_car_door = {car_door}\n",
    "\n",
    "user_choice = input(\"Please pick a door (1-3): \")\n",
    "numeric_user_choice = int(user_choice)-1\n",
    "if (doors[numeric_user_choice] == \"Car\"):\n",
    "    print(\"You win!\")\n",
    "else:\n",
    "    print(\"You lose!\")"
   ]
  },
  {
   "cell_type": "markdown",
   "metadata": {},
   "source": [
    "3. Make this a function - take inputs of 'switch' or 'stay', and the initial door chosen, and return if you got the car or the goat."
   ]
  },
  {
   "cell_type": "code",
   "execution_count": null,
   "metadata": {},
   "outputs": [],
   "source": [
    "def monty3():\n",
    "    #creating a list to represent door choices\n",
    "    doors = [1, 2, 3]\n",
    "    \n",
    "    #let's choose a winning door number\n",
    "    winningdoor = np.random.randint(1,4)\n",
    "    \n",
    "    #remove the winning door number from our door list\n",
    "    doors.remove(winningdoor)\n",
    "    \n",
    "    #print(winningdoor)\n",
    "    #print(doors)\n",
    "    #this is for printing later\n",
    "    winning_dict = {winningdoor: \"Car\", \"losingdoor\": \"Goat\"}\n",
    "    #input time! choose a door \n",
    "    choice = int(input(\"Please choose a door - '1', '2', or '3': \"))\n",
    "    try:\n",
    "        doors.remove(choice) #for the switch stay moment\n",
    "    except ValueError:\n",
    "        pass\n",
    "    #print(doors)\n",
    "    montydoor = np.random.choice(doors) #monty can chose to \n",
    "    print('Monty has opened door',str(montydoor))\n",
    "    print('Door', str(montydoor),'is empty')\n",
    "    choice2 = str(input(\"Would you like to 'switch' or 'stay'\"))\n",
    "    if choice2 == 'switch':\n",
    "        doors.append(winningdoor)\n",
    "        doors.remove(montydoor)\n",
    "        choice = doors[0]\n",
    "        print('Your choice is now door',str(choice))\n",
    "        if choice == winningdoor:\n",
    "            print('You Win a', winning_dict[winningdoor])    \n",
    "        else:\n",
    "            print('You Lose. Here is a', str(winning_dict[\"losingdoor\"]))\n",
    "    elif choice2 == 'stay':\n",
    "        if choice == winningdoor:\n",
    "            print('You Win a', winning_dict[winningdoor])    \n",
    "        else:\n",
    "            print('You Lose. Here is a', str(winning_dict[\"losingdoor\"]))\n",
    "    else:\n",
    "        print('That is not a valid choice')\n",
    "    \n",
    "    assert isinstance(choice,int) #input must be an integer\n",
    "    assert isinstance(choice2,str) #input must be a string"
   ]
  },
  {
   "cell_type": "code",
   "execution_count": null,
   "metadata": {},
   "outputs": [],
   "source": [
    "monty3()"
   ]
  },
  {
   "cell_type": "code",
   "execution_count": null,
   "metadata": {},
   "outputs": [],
   "source": [
    "def monty4(choice,choice2):\n",
    "    #creating a list to represent door choices\n",
    "    doors = [1, 2, 3]\n",
    "    \n",
    "    #let's choose a winning door number\n",
    "    winningdoor = np.random.randint(1,4)\n",
    "    \n",
    "    #remove the winning door number from our door list\n",
    "    doors.remove(winningdoor)\n",
    "    \n",
    "    #print(winningdoor)\n",
    "    #print(doors)\n",
    "    #this is for printing later\n",
    "    winning_dict = {winningdoor: \"Car\", \"losingdoor\": \"Goat\"}\n",
    "    #input time! choose a door \n",
    "    #choice = []\n",
    "    try:\n",
    "        doors.remove(choice) #for the switch stay moment\n",
    "    except ValueError:\n",
    "        pass\n",
    "    #print(doors)\n",
    "    montydoor = np.random.choice(doors) #monty can chose to \n",
    "    #print('Monty has opened door',str(montydoor))\n",
    "    #print('Door', str(montydoor),'is empty')\n",
    "    #choice2 = []\n",
    "    if choice2 == 'switch':\n",
    "        doors.append(winningdoor)\n",
    "        doors.remove(montydoor)\n",
    "        choice = doors[0]\n",
    "        #print('Your choice is now door',str(choice))\n",
    "        if choice == winningdoor:\n",
    "            return('Win')    \n",
    "        else:\n",
    "            return('Loss')\n",
    "    elif choice2 == 'stay':\n",
    "        if choice == winningdoor:\n",
    "            return('Win')    \n",
    "        else:\n",
    "            return('Loss')\n",
    "    else:\n",
    "        print('That is not a valid choice')\n",
    "    \n",
    "    assert isinstance(choice,int) #input must be an integer\n",
    "    assert isinstance(choice2,str) #input must be a string"
   ]
  },
  {
   "cell_type": "code",
   "execution_count": null,
   "metadata": {},
   "outputs": [],
   "source": [
    "monty4(1,'switch')"
   ]
  },
  {
   "cell_type": "markdown",
   "metadata": {},
   "source": [
    "4. Iterate over this function at least 1000 times for each of switch and stay (in a loop, or function). Keep a tally of how many times you win."
   ]
  },
  {
   "cell_type": "code",
   "execution_count": null,
   "metadata": {},
   "outputs": [],
   "source": [
    "monty4(1,'switch')"
   ]
  },
  {
   "cell_type": "code",
   "execution_count": null,
   "metadata": {},
   "outputs": [],
   "source": [
    "np.random.randint(1,4)"
   ]
  },
  {
   "cell_type": "code",
   "execution_count": null,
   "metadata": {},
   "outputs": [],
   "source": [
    "total_plays = 1000\n",
    "wins = 0\n",
    "losses = 0\n",
    "strategy = str(input(\"'switch' or 'stay'\"))\n",
    "for i in range(total_plays):\n",
    "    door_chosen = np.random.randint(1,4)\n",
    "    result = monty4(door_chosen, strategy)\n",
    "    if result == 'Win':\n",
    "        wins += 1\n",
    "    else:\n",
    "        losses += 1\n",
    "        \n",
    "print(f'win ratio: {wins/total_plays}')\n",
    "print(f'loss ratio: {losses/total_plays}')"
   ]
  },
  {
   "cell_type": "markdown",
   "metadata": {},
   "source": [
    "5. Make a graph of a sensible measure - maybe a histogram of total wins in a number of repeats, or a line graph of win rate over time with different strategies."
   ]
  },
  {
   "cell_type": "code",
   "execution_count": null,
   "metadata": {},
   "outputs": [],
   "source": []
  },
  {
   "cell_type": "markdown",
   "metadata": {},
   "source": [
    "6. Which is the best strategy? Can you explain why?"
   ]
  },
  {
   "cell_type": "code",
   "execution_count": null,
   "metadata": {},
   "outputs": [],
   "source": []
  },
  {
   "cell_type": "markdown",
   "metadata": {},
   "source": [
    "7. Try some modifications - instead of Monty always opening a goat, what if he is random? What if there are 50 doors? What if there are 50 doors, and Monty opens 48?"
   ]
  },
  {
   "cell_type": "code",
   "execution_count": null,
   "metadata": {},
   "outputs": [],
   "source": []
  },
  {
   "cell_type": "markdown",
   "metadata": {},
   "source": [
    "8. Document your function, and any modifications you made to it."
   ]
  },
  {
   "cell_type": "code",
   "execution_count": null,
   "metadata": {},
   "outputs": [],
   "source": []
  },
  {
   "cell_type": "code",
   "execution_count": null,
   "metadata": {},
   "outputs": [],
   "source": [
    "monty3()"
   ]
  }
 ],
 "metadata": {
  "kernelspec": {
   "display_name": "Python 3",
   "language": "python",
   "name": "python3"
  },
  "language_info": {
   "codemirror_mode": {
    "name": "ipython",
    "version": 3
   },
   "file_extension": ".py",
   "mimetype": "text/x-python",
   "name": "python",
   "nbconvert_exporter": "python",
   "pygments_lexer": "ipython3",
   "version": "3.7.4"
  }
 },
 "nbformat": 4,
 "nbformat_minor": 4
}
